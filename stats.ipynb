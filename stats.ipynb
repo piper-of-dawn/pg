{
 "cells": [
  {
   "cell_type": "code",
   "execution_count": null,
   "metadata": {},
   "outputs": [],
   "source": [
    "import pandas as pd\n",
    "df = pd.read_csv(\"MORTGAGE30US.csv\",usecols=['DATE','MORTGAGE30US'], parse_dates=['DATE']) #Read the MORTGAGE30US weekly data to pandas dataframe\n",
    "df['DATE']=df['DATE'].dt.to_period('M') #Stripped out the day from date time column to get monthly granularity\n",
    "df =df.groupby(['DATE'], as_index=False).mean() #Converted weekly data into monthly\n",
    "df['Avg_Year_rate']=df.groupby(df['DATE'].dt.year)['MORTGAGE30US'].transform('mean')/100 #Grouped by mean interest rate in that year\n",
    "df.set_index('DATE').to_clipboard()\n"
   ]
  },
  {
   "cell_type": "code",
   "execution_count": 4,
   "metadata": {},
   "outputs": [],
   "source": [
    "from pandas import Series \n",
    "from numpy import log\n",
    "from typing import List\n",
    "\n",
    "def get_ecl_weights(q0:List[Series], q1:List[Series]) -> dict:\n",
    "  return {\n",
    "    \"DeltaECL\": log(q1[0])/log(q0[0]),    \n",
    "    \"DeltaPD\": log(q1[1])/log(q0[1]),\n",
    "    \"DeltaLGD\": log(q1[2])/log(q0[2]),\n",
    "    \"DeltaEAD\": log(q1[3])/log(q0[3]),\n",
    "  }\n",
    "  \n",
    "  \n",
    "  "
   ]
  },
  {
   "cell_type": "code",
   "execution_count": null,
   "metadata": {},
   "outputs": [],
   "source": [
    "from helper import timeit\n",
    "from scipy.stats import f\n",
    "from scipy.stats import f_oneway, levene, gaussian_kde\n",
    "from numpy import random\n",
    "import numpy as np\n",
    "\n",
    "# \"F test for Variance\"\n",
    "\n",
    "@timeit\n",
    "def test_equality_of_variance(data1, data2):\n",
    "    n1 = len(data1)\n",
    "    n2 = len(data2)\n",
    "    var1 = sum([(x - sum(data1)/n1)**2 for x in data1])/(n1 - 1)\n",
    "    print(\"var1 summed\")\n",
    "    var2 = sum([(x - sum(data2)/n2)**2 for x in data2])/(n2 - 1)\n",
    "    print(\"var2 summed\")\n",
    "    F = var1/var2\n",
    "    print('F-ratio:', F)\n",
    "    \n",
    "    alpha = 0.05\n",
    "    if F < 1:\n",
    "        F = 1/F\n",
    "    df1 = n1 - 1\n",
    "    df2 = n2 - 1\n",
    "    p_value = 1 - f.cdf(F, df1, df2)\n",
    "    print('p-value:', p_value)\n",
    "    \n",
    "    if p_value > alpha:\n",
    "        print('The variance in the two groups is equal (fail to reject H0)')\n",
    "    else:\n",
    "        print('The variance in the two groups is not equal (reject H0)')\n"
   ]
  },
  {
   "cell_type": "code",
   "execution_count": null,
   "metadata": {},
   "outputs": [],
   "source": [
    "@timeit\n",
    "def test_equality_of_mean_and_variance(data1, data2, alpha=0.05):\n",
    "    statistic, pvalue_anova = levene(data1, data2)\n",
    "    statistic, pvalue_levene = levene(data1, data2)\n",
    "    if pvalue_levene > alpha:\n",
    "        print('The variance is likely equal (fail to reject H0)')\n",
    "    else:\n",
    "        print('The variance is likely not equal (reject H0)')\n",
    "   \n"
   ]
  },
  {
   "cell_type": "code",
   "execution_count": null,
   "metadata": {},
   "outputs": [],
   "source": [
    "data1 = tuple(random.normal(0,2,25000))\n",
    "data2 = tuple(random.normal(40,2,25000))"
   ]
  },
  {
   "cell_type": "code",
   "execution_count": null,
   "metadata": {},
   "outputs": [],
   "source": [
    "test_equality_of_mean_and_variance(data1, data2)"
   ]
  },
  {
   "cell_type": "code",
   "execution_count": null,
   "metadata": {},
   "outputs": [],
   "source": [
    "# Function test_equality_of_variance took 36.279090 seconds\n",
    "sample = np.random.normal(10,10,10)\n",
    "print(gaussian_kde(sample).weights)\n"
   ]
  },
  {
   "cell_type": "code",
   "execution_count": null,
   "metadata": {},
   "outputs": [],
   "source": [
    "100*(1+0.03)**10"
   ]
  },
  {
   "cell_type": "code",
   "execution_count": null,
   "metadata": {},
   "outputs": [],
   "source": [
    "import math, numpy\n",
    "from helper import timeit\n",
    "\n",
    "interquartileRange = lambda array: numpy.quantile(array, 0.75)-numpy.quantile(array, 0.25)\n",
    "\n",
    "@timeit\n",
    "def silvermansBandwidth(data):\n",
    "  return 0.9 * min(numpy.std(data), interquartileRange(data)) * (len(data) ** -0.20)\n",
    "\n",
    "@timeit\n",
    "def epanechnikov(bandwidth):\n",
    "  def kernel(x):\n",
    "    if abs(x/bandwidth) <= 1:\n",
    "      return 0.75 * (1 - x * x) / bandwidth\n",
    "    else:\n",
    "      return 0\n",
    "  return kernel\n",
    "\n",
    "\n",
    "generate_thresholds = lambda array: numpy.linspace(numpy.min(array), numpy.max(array), 10)\n",
    "\n",
    "@timeit\n",
    "def kde(kernel, thresholds, data):\n",
    "  def calc_mean(t):\n",
    "    return sum(kernel(t - d) for d in data) / len(data)\n",
    "  return [(t, calc_mean(t)) for t in thresholds]"
   ]
  },
  {
   "cell_type": "code",
   "execution_count": null,
   "metadata": {},
   "outputs": [],
   "source": [
    "data = numpy.random.normal(0,1,1_000_000)"
   ]
  },
  {
   "cell_type": "code",
   "execution_count": null,
   "metadata": {},
   "outputs": [],
   "source": [
    "bandwidth = silvermansBandwidth(data)\n",
    "thresholds = sorted(generate_thresholds(data))"
   ]
  },
  {
   "cell_type": "code",
   "execution_count": null,
   "metadata": {},
   "outputs": [],
   "source": [
    "kde(epanechnikov(bandwidth),thresholds, data)"
   ]
  },
  {
   "cell_type": "code",
   "execution_count": null,
   "metadata": {},
   "outputs": [],
   "source": [
    "from scipy.stats import gaussian_kde\n"
   ]
  },
  {
   "cell_type": "code",
   "execution_count": null,
   "metadata": {},
   "outputs": [],
   "source": [
    "tuple(zip(thresholds,gaussian_kde(data, bandwidth).evaluate(thresholds)))"
   ]
  },
  {
   "cell_type": "code",
   "execution_count": null,
   "metadata": {},
   "outputs": [],
   "source": []
  }
 ],
 "metadata": {
  "kernelspec": {
   "display_name": "Python 3.10.4 64-bit",
   "language": "python",
   "name": "python3"
  },
  "language_info": {
   "codemirror_mode": {
    "name": "ipython",
    "version": 3
   },
   "file_extension": ".py",
   "mimetype": "text/x-python",
   "name": "python",
   "nbconvert_exporter": "python",
   "pygments_lexer": "ipython3",
   "version": "3.10.4"
  },
  "orig_nbformat": 4,
  "vscode": {
   "interpreter": {
    "hash": "26de051ba29f2982a8de78e945f0abaf191376122a1563185a90213a26c5da77"
   }
  }
 },
 "nbformat": 4,
 "nbformat_minor": 2
}
