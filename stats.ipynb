{
 "cells": [
  {
   "cell_type": "code",
   "execution_count": 3,
   "metadata": {},
   "outputs": [],
   "source": [
    "from helper import timeit\n",
    "from scipy.stats import f\n",
    "from scipy.stats import f_oneway, levene, gaussian_kde\n",
    "from numpy import random\n",
    "import numpy as np\n",
    "\n",
    "# \"F test for Variance\"\n",
    "\n",
    "@timeit\n",
    "def test_equality_of_variance(data1, data2):\n",
    "    n1 = len(data1)\n",
    "    n2 = len(data2)\n",
    "    var1 = sum([(x - sum(data1)/n1)**2 for x in data1])/(n1 - 1)\n",
    "    print(\"var1 summed\")\n",
    "    var2 = sum([(x - sum(data2)/n2)**2 for x in data2])/(n2 - 1)\n",
    "    print(\"var2 summed\")\n",
    "    F = var1/var2\n",
    "    print('F-ratio:', F)\n",
    "    \n",
    "    alpha = 0.05\n",
    "    if F < 1:\n",
    "        F = 1/F\n",
    "    df1 = n1 - 1\n",
    "    df2 = n2 - 1\n",
    "    p_value = 1 - f.cdf(F, df1, df2)\n",
    "    print('p-value:', p_value)\n",
    "    \n",
    "    if p_value > alpha:\n",
    "        print('The variance in the two groups is equal (fail to reject H0)')\n",
    "    else:\n",
    "        print('The variance in the two groups is not equal (reject H0)')\n"
   ]
  },
  {
   "cell_type": "code",
   "execution_count": 36,
   "metadata": {},
   "outputs": [],
   "source": [
    "@timeit\n",
    "def test_equality_of_mean_and_variance(data1, data2, alpha=0.05):\n",
    "    statistic, pvalue_anova = levene(data1, data2)\n",
    "    statistic, pvalue_levene = levene(data1, data2)\n",
    "    if pvalue_levene > alpha:\n",
    "        print('The variance is likely equal (fail to reject H0)')\n",
    "    else:\n",
    "        print('The variance is likely not equal (reject H0)')\n",
    "   \n"
   ]
  },
  {
   "cell_type": "code",
   "execution_count": 27,
   "metadata": {},
   "outputs": [],
   "source": [
    "data1 = tuple(random.normal(0,2,25000))\n",
    "data2 = tuple(random.normal(40,2,25000))"
   ]
  },
  {
   "cell_type": "code",
   "execution_count": 37,
   "metadata": {},
   "outputs": [
    {
     "name": "stdout",
     "output_type": "stream",
     "text": [
      "The variance is likely equal (fail to reject H0)\n",
      "Function test_equality_of_mean_and_variance took 0.012729 seconds\n"
     ]
    }
   ],
   "source": [
    "test_equality_of_mean_and_variance(data1, data2)"
   ]
  },
  {
   "cell_type": "code",
   "execution_count": 20,
   "metadata": {},
   "outputs": [
    {
     "name": "stdout",
     "output_type": "stream",
     "text": [
      "[0.1 0.1 0.1 0.1 0.1 0.1 0.1 0.1 0.1 0.1]\n"
     ]
    }
   ],
   "source": [
    "# Function test_equality_of_variance took 36.279090 seconds\n",
    "sample = np.random.normal(10,10,10)\n",
    "print(gaussian_kde(sample).weights)\n"
   ]
  },
  {
   "cell_type": "code",
   "execution_count": 2,
   "metadata": {},
   "outputs": [
    {
     "data": {
      "text/plain": [
       "134.39163793441222"
      ]
     },
     "execution_count": 2,
     "metadata": {},
     "output_type": "execute_result"
    }
   ],
   "source": [
    "100*(1+0.03)**10"
   ]
  },
  {
   "cell_type": "code",
   "execution_count": 74,
   "metadata": {},
   "outputs": [],
   "source": [
    "import math, numpy\n",
    "from helper import timeit\n",
    "\n",
    "interquartileRange = lambda array: numpy.quantile(array, 0.75)-numpy.quantile(array, 0.25)\n",
    "\n",
    "@timeit\n",
    "def silvermansBandwidth(data):\n",
    "  return 0.9 * min(numpy.std(data), interquartileRange(data)) * (len(data) ** -0.20)\n",
    "\n",
    "@timeit\n",
    "def epanechnikov(bandwidth):\n",
    "  def kernel(x):\n",
    "    if abs(x/bandwidth) <= 1:\n",
    "      return 0.75 * (1 - x * x) / bandwidth\n",
    "    else:\n",
    "      return 0\n",
    "  return kernel\n",
    "\n",
    "\n",
    "generate_thresholds = lambda array: numpy.linspace(numpy.min(array), numpy.max(array), 10)\n",
    "\n",
    "@timeit\n",
    "def kde(kernel, thresholds, data):\n",
    "  def calc_mean(t):\n",
    "    return sum(kernel(t - d) for d in data) / len(data)\n",
    "  return [(t, calc_mean(t)) for t in thresholds]"
   ]
  },
  {
   "cell_type": "code",
   "execution_count": 69,
   "metadata": {},
   "outputs": [],
   "source": [
    "data = numpy.random.normal(0,1,1_000_000)"
   ]
  },
  {
   "cell_type": "code",
   "execution_count": 67,
   "metadata": {},
   "outputs": [],
   "source": [
    "bandwidth = silvermansBandwidth(data)\n",
    "thresholds = sorted(generate_thresholds(data))"
   ]
  },
  {
   "cell_type": "code",
   "execution_count": 75,
   "metadata": {},
   "outputs": [
    {
     "name": "stdout",
     "output_type": "stream",
     "text": [
      "Function epanechnikov took 0.000001 seconds\n",
      "Function kde took 4.810963 seconds\n"
     ]
    },
    {
     "data": {
      "text/plain": [
       "[(-5.759347130475287, 0.0),\n",
       " (-4.4790331661189295, 3.956124837232064e-05),\n",
       " (-3.198719201762572, 0.003905042363852214),\n",
       " (-1.9184052374062146, 0.09638123310421638),\n",
       " (-0.6380912730498576, 0.4861610085291486),\n",
       " (0.6422226913064994, 0.4851170214590126),\n",
       " (1.9225366556628574, 0.09542728155969954),\n",
       " (3.2028506200192135, 0.003984074384838433),\n",
       " (4.483164584375571, 3.9556842338140555e-05),\n",
       " (5.763478548731929, 0.0)]"
      ]
     },
     "execution_count": 75,
     "metadata": {},
     "output_type": "execute_result"
    }
   ],
   "source": [
    "kde(epanechnikov(bandwidth),thresholds, data)"
   ]
  },
  {
   "cell_type": "code",
   "execution_count": 58,
   "metadata": {},
   "outputs": [],
   "source": [
    "from scipy.stats import gaussian_kde\n"
   ]
  },
  {
   "cell_type": "code",
   "execution_count": 76,
   "metadata": {},
   "outputs": [
    {
     "data": {
      "text/plain": [
       "((-5.759347130475287, 2.335764603226546e-53),\n",
       " (-4.4790331661189295, 2.388013947434793e-05),\n",
       " (-3.198719201762572, 0.002553250088841075),\n",
       " (-1.9184052374062146, 0.06426199607240565),\n",
       " (-0.6380912730498576, 0.3241262401366447),\n",
       " (0.6422226913064994, 0.3229418677099397),\n",
       " (1.9225366556628574, 0.06344610376992335),\n",
       " (3.2028506200192135, 0.002609358121615744),\n",
       " (4.483164584375571, 2.3894970160758568e-05),\n",
       " (5.763478548731929, 5.527754575013309e-109))"
      ]
     },
     "execution_count": 76,
     "metadata": {},
     "output_type": "execute_result"
    }
   ],
   "source": [
    "tuple(zip(thresholds,gaussian_kde(data, bandwidth).evaluate(thresholds)))"
   ]
  },
  {
   "cell_type": "code",
   "execution_count": null,
   "metadata": {},
   "outputs": [],
   "source": []
  }
 ],
 "metadata": {
  "kernelspec": {
   "display_name": "Python 3.10.4 64-bit",
   "language": "python",
   "name": "python3"
  },
  "language_info": {
   "codemirror_mode": {
    "name": "ipython",
    "version": 3
   },
   "file_extension": ".py",
   "mimetype": "text/x-python",
   "name": "python",
   "nbconvert_exporter": "python",
   "pygments_lexer": "ipython3",
   "version": "3.10.4"
  },
  "orig_nbformat": 4,
  "vscode": {
   "interpreter": {
    "hash": "26de051ba29f2982a8de78e945f0abaf191376122a1563185a90213a26c5da77"
   }
  }
 },
 "nbformat": 4,
 "nbformat_minor": 2
}
