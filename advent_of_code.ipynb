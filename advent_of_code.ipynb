{
 "cells": [
  {
   "cell_type": "code",
   "execution_count": 89,
   "metadata": {},
   "outputs": [
    {
     "data": {
      "text/plain": [
       "[[-1, 0, 0],\n",
       " [-1, 0, 0],\n",
       " [0, -1, 0],\n",
       " [0, -1, 0],\n",
       " [0, 0, -1],\n",
       " [0, 0, -1],\n",
       " [0, 0, -1],\n",
       " [0, 0, 1],\n",
       " [0, 0, 1],\n",
       " [0, 0, 1],\n",
       " [0, 1, 0],\n",
       " [0, 1, 0],\n",
       " [1, 0, 0],\n",
       " [1, 0, 0]]"
      ]
     },
     "execution_count": 89,
     "metadata": {},
     "output_type": "execute_result"
    }
   ],
   "source": [
    "from itertools import product\n",
    "from re import findall\n",
    "cartesian_product = lambda vector1, vector2: product(vector1,vector2)\n",
    "data = [tuple(map(int, findall(\"\\d+\", line))) for line in open(\"day18_test.txt\").read().split(\"\\n\")]\n",
    "\n",
    "# sorted(list(filter(lambda d: len(set(d))<3, data)))\n",
    "# [3-len(set(d)) for d in data]\n",
    "# sorted(data)\n",
    "distance = lambda tuples: [x-y for x,y in zip(*tuples)]\n",
    "# filteration = lambda tuples: tuples[0] != tuples[1]\n",
    "# list(filter(filteration,cartesian_product(data, data)))\n",
    "check_the_touch = lambda lst: all([abs(x)<2 for x in lst])\n",
    "sorted(y for y in [x for x in [distance(i) for i in cartesian_product(data, data)] if x.count(0) == 2] if check_the_touch(y))"
   ]
  },
  {
   "cell_type": "code",
   "execution_count": 58,
   "metadata": {},
   "outputs": [
    {
     "name": "stdout",
     "output_type": "stream",
     "text": [
      "deque([{'shape': '-', 'height': 1, 'width': 4, 'position': {'x_span': (2, 5), 'y_span': (0, 1), 'top_span': <function <lambda> at 0x000002AC9F2E45E0>}}, {'shape': '+', 'height': 3, 'width': 3, 'position': {'x_span': (2, 4), 'y_span': (0, 3), 'top_span': <function <lambda> at 0x000002AC9F2E7880>}}, {'shape': '⅃', 'height': 3, 'width': 3, 'position': {'x_span': (2, 4), 'y_span': (0, 3), 'top_span': <function <lambda> at 0x000002AC9F2F0220>}}, {'shape': '|', 'height': 4, 'width': 1, 'position': {'x_span': (2, 2), 'y_span': (0, 4), 'top_span': <function <lambda> at 0x000002AC9F2F3CE0>}}])\n",
      "2 5 0 1\n",
      "1\n",
      "3 6 1 2\n",
      "{'x_span': (3, 6), 'y_span': (1, 2), 'top_span': <function <lambda> at 0x000002AC9F2E45E0>}\n",
      "Prev rock span (3, 6)\n",
      "1\n",
      "4 7 2 3\n",
      "horizontal didnt happen\n",
      "{'x_span': (3, 6), 'y_span': (2, 3), 'top_span': <function <lambda> at 0x000002AC9F2E45E0>}\n",
      "Prev rock span (3, 6)\n",
      "1\n",
      "4 7 3 4\n",
      "horizontal didnt happen\n",
      "{'x_span': (3, 6), 'y_span': (3, 4), 'top_span': <function <lambda> at 0x000002AC9F2E45E0>}\n",
      "Prev rock span (3, 6)\n",
      "-1\n",
      "2 5 4 5\n",
      "{'x_span': (2, 5), 'y_span': (4, 5), 'top_span': <function <lambda> at 0x000002AC9F2E45E0>}\n",
      "Prev rock span (2, 5)\n",
      "****************************************************************\n",
      "Next rock: +\n",
      "2 4 0 3\n",
      "-1\n",
      "1 3 1 4\n",
      "{'x_span': (1, 3), 'y_span': (1, 4), 'top_span': <function <lambda> at 0x000002AC9F2E7880>}\n",
      "Prev rock span (2, 0)\n",
      "1\n",
      "2 4 2 5\n",
      "{'x_span': (2, 4), 'y_span': (2, 5), 'top_span': <function <lambda> at 0x000002AC9F2E7880>}\n",
      "Prev rock span (3, 1)\n",
      "-1\n",
      "1 3 3 6\n",
      "{'x_span': (1, 3), 'y_span': (3, 6), 'top_span': <function <lambda> at 0x000002AC9F2E7880>}\n",
      "Prev rock span (2, 0)\n",
      "1\n",
      "2 4 4 7\n",
      "{'x_span': (2, 4), 'y_span': (4, 7), 'top_span': <function <lambda> at 0x000002AC9F2E7880>}\n",
      "Prev rock span (3, 1)\n",
      "****************************************************************\n",
      "Next rock: ⅃\n"
     ]
    }
   ],
   "source": [
    "# DAY 17\n",
    "# >>><<><>><<<>><>>><<<>>><<<><<<>><>><<>>\n",
    "import re\n",
    "from collections import deque\n",
    "CHAMBER_WIDTH = 7\n",
    "APPEAR_PADDING = 2\n",
    "DIST_BETWEEN_ROCKS = 3\n",
    "direction_parse = lambda direction_char: -1 if direction_char==\"<\" else 1\n",
    "DIRECTION_DATA = deque(map(direction_parse, open(\"day17_test.txt\").read().strip()))\n",
    "\n",
    "\n",
    "rocks = \"\"\"####\n",
    "\n",
    ".#.\n",
    "###\n",
    ".#.\n",
    "\n",
    "..#\n",
    "..#\n",
    "###\n",
    "\n",
    "#\n",
    "#\n",
    "#\n",
    "#\n",
    "\n",
    "##\n",
    "##\"\"\"\n",
    "shapes = \"-+⅃|□\"\n",
    "height = [len(re.findall(\"\\n\", rock))+1 for rock in rocks.split(\"\\n\\n\")]\n",
    "width = (4,3,3,1,2)\n",
    "top_spans = (lambda x_span: x_span, lambda x_span: (x_span[0]+1, x_span[0]-1), lambda x_span: x_span, lambda x_span: x_span)\n",
    "rock_profile = deque([{\"shape\": shape, \"height\": height, \"width\": width, \"position\": {\"x_span\": (APPEAR_PADDING, APPEAR_PADDING+width-1), \"y_span\": (0,height), \"top_span\": top_span}} for shape, height, width, top_span in zip(shapes, height, width, top_spans)]) \n",
    "\n",
    "\n",
    "\n",
    "def mover() -> None:\n",
    "    rock = rock_profile[0]\n",
    "    left, right, top, bottom = (rock[\"position\"][\"x_span\"][0], rock[\"position\"][\"x_span\"][1], rock[\"position\"][\"y_span\"][0], rock[\"position\"][\"y_span\"][1])\n",
    "    print(left, right, top, bottom)      \n",
    "    vertical_movement_allowed = True\n",
    "    previous_rock_span = (0,7)    \n",
    "    while(vertical_movement_allowed):      \n",
    "        direction =  DIRECTION_DATA[0]\n",
    "        print(direction)\n",
    "        left, right, top, bottom = (rock[\"position\"][\"x_span\"][0]+direction, rock[\"position\"][\"x_span\"][1]+direction, rock[\"position\"][\"y_span\"][0]+1, rock[\"position\"][\"y_span\"][1]+1)\n",
    "        print(left, right, top, bottom)        \n",
    "        horizontal_movement_allowed=True if left>0 and right<CHAMBER_WIDTH else False\n",
    "        vertical_movement_allowed = True if DIST_BETWEEN_ROCKS-top>0 or (top==3 and any(range(left, right-1)) not in range(*previous_rock_span)) else False\n",
    "        rock[\"position\"].update({\"y_span\": (top,bottom)})            \n",
    "        if horizontal_movement_allowed:\n",
    "            rock[\"position\"].update({\"x_span\": (left,right)})\n",
    "        else: print(\"horizontal didnt happen\")                  \n",
    "        print(rock[\"position\"])\n",
    "        DIRECTION_DATA.rotate(-1)\n",
    "        previous_rock_span = rock[\"position\"][\"top_span\"](rock[\"position\"][\"x_span\"])\n",
    "        print(f\"Prev rock span {previous_rock_span}\")\n",
    "    print(\"****************************************************************\")          \n",
    "    rock_profile.rotate(-1)\n",
    "    print(f\"Next rock: {rock_profile[0]['shape']}\")\n",
    "    \n",
    "\n",
    "def main():\n",
    "    mover(rock_profile[0])\n",
    "    \n",
    "\n",
    "print(rock_profile)    \n",
    "mover()\n",
    "mover()\n"
   ]
  },
  {
   "cell_type": "code",
   "execution_count": null,
   "metadata": {},
   "outputs": [],
   "source": []
  },
  {
   "cell_type": "code",
   "execution_count": 11,
   "metadata": {},
   "outputs": [
    {
     "data": {
      "text/plain": [
       "[['AA', '0', 'DD', 'II', 'BB'],\n",
       " ['BB', '13', 'CC', 'AA'],\n",
       " ['CC', '2', 'DD', 'BB'],\n",
       " ['DD', '20', 'CC', 'AA', 'EE'],\n",
       " ['EE', '3', 'FF', 'DD'],\n",
       " ['FF', '0', 'EE', 'GG'],\n",
       " ['GG', '0', 'FF', 'HH'],\n",
       " ['HH', '22', 'GG'],\n",
       " ['II', '0', 'AA', 'JJ'],\n",
       " ['JJ', '21', 'II']]"
      ]
     },
     "execution_count": 11,
     "metadata": {},
     "output_type": "execute_result"
    }
   ],
   "source": [
    "# DAY 16\n",
    "import re\n",
    "# 💀 DANGER 💀: Crazy regex stuff ahead : [A-Z]{2} matches pattern like AA and \\d+ matches integers\n",
    "[re.findall(r'[A-Z]{2}|\\d+', line) for line in open(\"day16_test.txt\").read().split(\"\\n\")]\n"
   ]
  },
  {
   "cell_type": "code",
   "execution_count": null,
   "metadata": {},
   "outputs": [],
   "source": []
  },
  {
   "cell_type": "code",
   "execution_count": 55,
   "metadata": {},
   "outputs": [
    {
     "data": {
      "text/plain": [
       "[(1, 1), ([2, [3, [4, [5, 6, 7]]]], [2, [3, [4, [5, 6, 0]]]]), (8, 8), (9, 9)]"
      ]
     },
     "execution_count": 55,
     "metadata": {},
     "output_type": "execute_result"
    }
   ],
   "source": [
    "data = [[eval(message) for message in pair.split(\"\\n\")] for pair in open(\"day13_test.txt\").read().split(\"\\n\\n\")]\n",
    "test = list(zip(data[7][0],data[7][1]))\n",
    "for left, right in test:\n",
    "    count = 0\n",
    "    if (type(left) == type(right) and isinstance(left, int)):\n",
    "        if left<=right:\n",
    "           continue            \n",
    "        else: count+=1\n",
    "    elif type(left) != type(right):\n",
    "         test = [list(left), right] if isinstance(left, int) else [left, list(right)]\n",
    "    else: test = zip(left, right)\n",
    "\n",
    "# cases\n",
    "# both are int → easy\n",
    "# both are list → call zip (left, right)\n",
    "# one is int other is list → Make int into list\n",
    "\n"
   ]
  },
  {
   "cell_type": "code",
   "execution_count": 50,
   "metadata": {},
   "outputs": [
    {
     "data": {
      "text/plain": [
       "{0}"
      ]
     },
     "execution_count": 50,
     "metadata": {},
     "output_type": "execute_result"
    }
   ],
   "source": [
    "def parse(data):\n",
    "    directions = {\"R\": 1 + 0j, \"L\": -1 + 0, \"U\": 0 + 1j, \"D\": 0 - 1j}\n",
    "    for line in data.splitlines():\n",
    "        direction, steps = line.split()\n",
    "        yield directions[direction], int(steps) # R 4 -> ((1+0j),4). Move 4 directions in real axis.\n",
    "\n",
    "\n",
    "def movement(rope, direction, steps, visited=set()):\n",
    "    for _ in range(steps):\n",
    "        rope[0] += direction\n",
    "        for i in range(len(rope) - 1):\n",
    "            head, tail = rope[i], rope[i + 1]\n",
    "            diff = tail - head\n",
    "            if abs(diff) >= 2:\n",
    "                if diff.real != 0:\n",
    "                    tail = tail.real - (diff.real / abs(diff.real)) + tail.imag * 1j\n",
    "                if diff.imag != 0:\n",
    "                    tail = tail.real + (tail.imag - (diff.imag / abs(diff.imag))) * 1j\n",
    "                \n",
    "            rope[i + 1] = tail\n",
    "        visited.add(rope[-1])\n",
    "    return rope\n",
    "\n",
    "\n",
    "def wiggle(data, rope_length):\n",
    "    rope = [0j] * rope_length\n",
    "    visited = set([0])\n",
    "    for direction, steps in data:\n",
    "        rope = movement(rope, direction, steps, visited)\n",
    "        visited.add(rope[-1])\n",
    "    return visited\n",
    "\n",
    "\n",
    "def main(day, part=1):\n",
    "    day.data = parse(day.data)\n",
    "    if part == 1:\n",
    "        return len(wiggle(day.data, rope_length=2))\n",
    "    if part == 2:\n",
    "        return len(wiggle(day.data, rope_length=10))\n",
    "\n",
    "data = \"\"\"R 4\n",
    "U 4\n",
    "L 3\n",
    "D 1\n",
    "R 4\n",
    "D 1\n",
    "L 5\n",
    "R 2\"\"\"\n",
    "\n",
    "\n",
    "    # p1 = main(day)\n",
    "    # print(p1)\n",
    "\n",
    "\n",
    "#     data = \"\"\"R 5\n",
    "# U 8\n",
    "# L 8\n",
    "# D 3\n",
    "# R 17\n",
    "# D 10\n",
    "# L 25\n",
    "# U 20\"\"\"\n",
    "\n",
    "#     # day.load(data, typing=str)\n",
    "#     day.load(typing=str)\n",
    "\n",
    "#     p2 = main(day, part=2)\n",
    "#     print(p2)\n",
    "# next(parse(data))\n",
    "next(parse(open(\"day9_test.txt\").read()))\n",
    "set([0])"
   ]
  },
  {
   "cell_type": "code",
   "execution_count": 11,
   "metadata": {},
   "outputs": [],
   "source": [
    "# from typing import List\n",
    "# from dataclasses import dataclass\n",
    "\n",
    "# @dataclass\n",
    "# class File:\n",
    "#     name: str\n",
    "#     size: int\n",
    "\n",
    "# @dataclass\n",
    "# class Dir:\n",
    "#     name: str\n",
    "#     size: int\n",
    "#     parent: str\n",
    "    \n",
    "# First find all the directories\n",
    "# Create a hashmap of every directory and subdirectories. Directory: Subdirectories. Look inside every cd\n",
    "# Start looping. For every subdirectory, look inside it, \n",
    "#   case: no directories\n",
    "\n",
    "    \n",
    "    \n",
    "\n",
    "    \n",
    "# adad.append(csd) \n",
    "\n",
    "\n",
    "\n",
    "\n",
    "\n",
    "# def build_fs(term_lines: List[List[str]]):\n",
    "#     root: Dir = Dir('/', None, [], [])\n",
    "#     current: Dir = root\n",
    "#     num_lines = len(term_lines)"
   ]
  },
  {
   "cell_type": "code",
   "execution_count": 38,
   "metadata": {},
   "outputs": [
    {
     "name": "stdout",
     "output_type": "stream",
     "text": [
      "Function main took 0.000004 seconds\n",
      "Function main took 0.000002 seconds\n",
      "Function main took 0.000004 seconds\n",
      "Function main took 0.000003 seconds\n",
      "Function main took 0.000006 seconds\n",
      "Function main took 0.000006 seconds\n",
      "Function main took 0.000009 seconds\n",
      "Function main took 0.000009 seconds\n",
      "Function main took 0.000277 seconds\n",
      "The answer to Day 5 Part 1 is 1142\n",
      "Function main took 0.001255 seconds\n",
      "The answer to Day 5 Part 2 is 2803\n"
     ]
    },
    {
     "data": {
      "text/plain": [
       "<__main__.Communication at 0x1f830411f10>"
      ]
     },
     "execution_count": 38,
     "metadata": {},
     "output_type": "execute_result"
    }
   ],
   "source": [
    "from helper import timeit\n",
    "class Communication:\n",
    "    def __init__(self, testpath, path) -> None:\n",
    "        self.datastream = open(path).read()\n",
    "        self.teststream = open(testpath).read()\n",
    "        self.check_repeatition = lambda stream, distinct: len(set(stream)) == distinct\n",
    "        self.test_cases(1)\n",
    "        self.test_cases(2)          \n",
    "        print(f\"The answer to Day 5 Part 1 is {self.main(self.datastream, 1)}\")\n",
    "        print(f\"The answer to Day 5 Part 2 is {self.main(self.datastream, 2)}\") \n",
    "   \n",
    "    @timeit\n",
    "    def main (self, message, part):\n",
    "        match part:\n",
    "            case 1:\n",
    "                distinct = 4\n",
    "            case 2:\n",
    "                distinct = 14\n",
    "        i = 0        \n",
    "        j = distinct\n",
    "        is_marker = False\n",
    "        while  (j<len(message) and not is_marker):                              \n",
    "            is_marker = self.check_repeatition(message[i:j], distinct)\n",
    "            if is_marker:                \n",
    "                return j\n",
    "            else:\n",
    "                i+=1\n",
    "                j+=1\n",
    "\n",
    "    def test_cases (self, part):\n",
    "        match part:\n",
    "            case 1:\n",
    "                test_answers = [5,6,10,11]            \n",
    "            case 2:\n",
    "                test_answers = [23,23,29,26]\n",
    "                \n",
    "        for line, answer in zip(self.teststream.split(\"\\n\"), test_answers):       \n",
    "            assert self.main(line,part) == answer     \n",
    "       \n",
    "Communication(\"day6_test.txt\", \"day6.txt\")\n",
    "   "
   ]
  },
  {
   "cell_type": "code",
   "execution_count": 102,
   "metadata": {},
   "outputs": [
    {
     "name": "stdout",
     "output_type": "stream",
     "text": [
      "Function simulate_crane took 0.000742 seconds\n",
      "The answer to Day 5 Part 1 is LJSVLTWQM\n",
      "Function simulate_crane took 0.000869 seconds\n",
      "The answer to Day 5 Part 1 is BRQWDBBJM\n"
     ]
    },
    {
     "data": {
      "text/plain": [
       "<__main__.SupplyStacks at 0x213f1616f10>"
      ]
     },
     "execution_count": 102,
     "metadata": {},
     "output_type": "execute_result"
    }
   ],
   "source": [
    "from collections import deque\n",
    "import re\n",
    "from helper import timeit\n",
    "import itertools\n",
    "from copy import deepcopy\n",
    "\n",
    "class SupplyStacks:\n",
    "    def __init__(self, path):\n",
    "        self.Stacks, self.Instructions = re.split(\"\\n\\n\", open(path).read())\n",
    "        self.CARGO = {}\n",
    "        for i in range(1,max(map(int, re.findall(\"\\d+\", self.Stacks)))+1):\n",
    "            self.CARGO[i] = deque()\n",
    "          \n",
    "        for s in re.split(\"\\n\", self.Stacks):\n",
    "            # 💀 DANGER 💀: Some crazy regex stuff ahead\n",
    "            # \"\\s{4}|\\w\" means 4 whitespaces or a word in regex lingo\n",
    "            for stack, crate in enumerate(re.findall(\"\\s{4}|\\w\", s)):\n",
    "                crates = re.findall(\"[A-Z]+\", crate)          \n",
    "                len(crates) and self.CARGO[stack+1].append(crates[0])\n",
    "        print(f\"The answer to Day 5 Part 1 is {self.simulate_crane(1, deepcopy(self.CARGO))}\")\n",
    "        print(f\"The answer to Day 5 Part 2 is {self.simulate_crane(2, self.CARGO)}\")\n",
    "          \n",
    "    @timeit       \n",
    "    def simulate_crane(self, part, cargo):        \n",
    "        match part:\n",
    "            case 1:     \n",
    "                for line in self.Instructions.splitlines():            \n",
    "                    N, From, To = map(int, re.findall(\"\\d+\",line))        \n",
    "                    for i in range(N):                        \n",
    "                         cargo[To].appendleft(cargo[From].popleft())\n",
    "                message = \"\"\n",
    "                for stack in cargo:\n",
    "                    message += cargo[stack][0]                    \n",
    "                return message\n",
    "            \n",
    "            case 2:\n",
    "                for line in self.Instructions.splitlines():            \n",
    "                    N, From, To = map(int, re.findall(\"\\d+\",line))\n",
    "                    cargo[To].extendleft(list(itertools.islice(cargo[From], 0, N))[::-1])             \n",
    "                    for i in range(N):                        \n",
    "                        cargo[From].popleft()\n",
    "                message = \"\"\n",
    "                for stack in cargo:\n",
    "                    message += cargo[stack][0]\n",
    "                return message          \n",
    " \n",
    "\n",
    "SupplyStacks(\"day5.txt\")\n",
    "\n"
   ]
  },
  {
   "cell_type": "code",
   "execution_count": 22,
   "metadata": {},
   "outputs": [
    {
     "name": "stdout",
     "output_type": "stream",
     "text": [
      "Function main_part1 took 0.001820 seconds\n",
      "The answer to Day 4 Part 1 is 503\n",
      "Function main_part2 took 0.001383 seconds\n",
      "The answer to Day 4 Part 2 is 827\n"
     ]
    },
    {
     "data": {
      "text/plain": [
       "<__main__.CampCleanup at 0x1fb5dbb5990>"
      ]
     },
     "execution_count": 22,
     "metadata": {},
     "output_type": "execute_result"
    }
   ],
   "source": [
    "from helper import timeit\n",
    "import re\n",
    "class CampCleanup:   \n",
    "    @staticmethod    \n",
    "    def READ_TEXT_FILE(path):\n",
    "        for line in open(path):\n",
    "            # 🤵 Some fancy regex stuff\n",
    "            yield map(int, re.findall (\"\\d+\", line))\n",
    "\n",
    "    def __init__(self, path):\n",
    "        self.path = path\n",
    "        print(f\"The answer to Day 4 Part 1 is {self.main_part1()}\")\n",
    "        print(f\"The answer to Day 4 Part 2 is {self.main_part2()}\")        \n",
    "    \n",
    "    @timeit\n",
    "    def main_part1(self):\n",
    "        count  = 0\n",
    "        for a,b,c,d in self.READ_TEXT_FILE(self.path):\n",
    "            # 💀DANGER 💀 MINDFUCK LINE AHEAD!🤯 Too much logic stuffed into one line!\n",
    "            # Get the maximum start element and the minimum end element from both sections\n",
    "            # Create a tuple of min and max and check if they match any of the sections.\n",
    "            if (max(a, c),min(b, d)) in [(a,b), (c,d)]: count += 1                   \n",
    "        return count\n",
    "    \n",
    "    @timeit\n",
    "    def main_part2(self):\n",
    "        count = 0\n",
    "        for a,b,c,d in self.READ_TEXT_FILE(self.path):\n",
    "            if not (c>b or d<a):\n",
    "               count += 1 \n",
    "        return count \n",
    "    \n",
    "        \n",
    "CampCleanup(\"day4.txt\")\n",
    "\n",
    "\n"
   ]
  },
  {
   "cell_type": "code",
   "execution_count": 77,
   "metadata": {},
   "outputs": [
    {
     "name": "stdout",
     "output_type": "stream",
     "text": [
      "Function main_DAY1 took 0.000649 seconds\n",
      "The answer to Day 1 Part 1 is 8153\n",
      "Function main_DAY2 took 0.000400 seconds\n",
      "The answer to Day 1 Part 2 is 2342\n"
     ]
    },
    {
     "data": {
      "text/plain": [
       "<__main__.RuckSack at 0x21039dd2790>"
      ]
     },
     "execution_count": 77,
     "metadata": {},
     "output_type": "execute_result"
    }
   ],
   "source": [
    "from helper import timeit\n",
    "import string\n",
    "class RuckSack:   \n",
    "    @staticmethod    \n",
    "    def READ_TEXT_FILE(path):\n",
    "        return tuple(x for x in open(path).read().split('\\n'))\n",
    "    \n",
    "    @staticmethod\n",
    "    def CharacterHashMap() -> dict:\n",
    "        CharHashMap = {}        \n",
    "        for index, char in zip(range(1,53),list(string.ascii_lowercase)+list(string.ascii_uppercase)):\n",
    "            CharHashMap[char] = index\n",
    "        return CharHashMap     \n",
    "  \n",
    "    def __init__(self, path):\n",
    "        self.DATA = self.READ_TEXT_FILE(path)\n",
    "        self.CHAR_HASH_MAP = self.CharacterHashMap()\n",
    "        print(f\"The answer to Day 3 Part 1 is {self.main_DAY1()}\")\n",
    "        print(f\"The answer to Day 3 Part 2 is {self.main_DAY2()}\")\n",
    "        \n",
    "        \n",
    "    def MidpointBreakString (self, string: str) -> int:\n",
    "        midpoint = int(len(string)/2)\n",
    "        return [list(string)[:midpoint], list(string)[midpoint:]]\n",
    "         \n",
    "    def GetIntersectionCharacter(self, StringList: list) -> str:\n",
    "        # 💀 DANGER 💀: Verbose Line Ahead\n",
    "        # I am just unpacking the list of strings and then taking the intersection of all and then re-parsing them into lest to get the common element as string.\n",
    "        common_character = list(set(StringList[0]).intersection(*StringList))[0]\n",
    "        return self.CHAR_HASH_MAP[common_character]\n",
    "    \n",
    "    @timeit    \n",
    "    def main_DAY1(self):\n",
    "        GrandSum = 0\n",
    "        for sentence in self.DATA:\n",
    "            Sum = 0            \n",
    "            Sum += self.GetIntersectionCharacter(self.MidpointBreakString(sentence))\n",
    "            GrandSum += Sum\n",
    "        return GrandSum\n",
    "    \n",
    "    def GetGroup(self):\n",
    "        Group = []\n",
    "        for index, sentence in enumerate(self.DATA):                      \n",
    "            Group.append(list(sentence))\n",
    "            if (index+1)%3 == 0:\n",
    "                yield Group\n",
    "                Group = []                  \n",
    "            else:\n",
    "                continue\n",
    "            \n",
    "    @timeit   \n",
    "    def main_DAY2 (self):\n",
    "        GrandSum = 0\n",
    "        \n",
    "        for group in self.GetGroup():\n",
    "            Sum = 0\n",
    "            Sum += self.GetIntersectionCharacter(group)\n",
    "            GrandSum += Sum\n",
    "        return GrandSum               \n",
    "    \n",
    "RuckSack(\"day3.txt\")\n",
    "\n"
   ]
  },
  {
   "cell_type": "code",
   "execution_count": 47,
   "metadata": {},
   "outputs": [
    {
     "name": "stdout",
     "output_type": "stream",
     "text": [
      "Function Day2 took 0.003608 seconds\n",
      "The answer for Day1 Part1 is 12156\n",
      "Function Day2 took 0.002145 seconds\n",
      "The answer for Day1 Part2 is 10835\n"
     ]
    }
   ],
   "source": [
    "from helper import timeit\n",
    "\n",
    "@timeit\n",
    "def Day2():\n",
    "    read_text_file = lambda path: tuple(x for x in open(path).read().split('\\n'))\n",
    "    OutcomeSet = [tuple(strng.split()) for strng in read_text_file(\"day2.txt\")]\n",
    "    score_dictionary = {     \n",
    "        'X': 1,\n",
    "        'Y': 2,\n",
    "        'Z': 3,\n",
    "        'WinSet': [('A', 'Y'), ('B','Z'), ('C', 'X')],\n",
    "        'DrawSet': [('A', 'X'), ('B','Y'), ('C', 'Z')],\n",
    "        'LossSet': [('A', 'Z'), ('B','X'), ('C', 'Y')],      \n",
    "        'Win': 6,\n",
    "        'Draw': 3,\n",
    "        'Loss': 0  \n",
    "    }\n",
    "\n",
    "    GrandScore_P1=0\n",
    "    GrandScore_P2=0\n",
    "    \n",
    "    for strategy in OutcomeSet:\n",
    "        ScoreSum = 0    \n",
    "        ScoreSum = score_dictionary[strategy[1]]\n",
    "        if strategy in score_dictionary['WinSet']:\n",
    "            ScoreSum += score_dictionary['Win']\n",
    "        elif strategy in score_dictionary['DrawSet']:\n",
    "            ScoreSum += score_dictionary['Draw']\n",
    "        else:\n",
    "            ScoreSum += score_dictionary['Loss']\n",
    "        GrandScore_P1 += ScoreSum\n",
    "        \n",
    "    #Part 2\n",
    "    for strategy in OutcomeSet:\n",
    "        ScoreSum = 0\n",
    "        match strategy[1]:\n",
    "            case 'X':\n",
    "                ScoreSum = score_dictionary['Loss']\n",
    "                # 💀 Danger 💀: Verbose line below. I am just filtering the strategy from Loss Set which matches Elf's strategy and then retrieving the score.            \n",
    "                ScoreSum += score_dictionary[tuple(x for x in score_dictionary['LossSet'] if x[0] == strategy[0])[0][1]]\n",
    "            case 'Y':\n",
    "                ScoreSum = score_dictionary['Draw'] \n",
    "                ScoreSum += score_dictionary[tuple(x for x in score_dictionary['DrawSet'] if x[0] == strategy[0])[0][1]]\n",
    "            case 'Z':\n",
    "                ScoreSum = score_dictionary['Win'] \n",
    "                ScoreSum += score_dictionary[tuple(x for x in score_dictionary['WinSet'] if x[0] == strategy[0])[0][1]]\n",
    "        GrandScore_P2 += ScoreSum        \n",
    "        \n",
    "    return GrandScore_P1, GrandScore_P2\n",
    "print (f\"The answer for Day1 Part1 is {Day2()[0]}\")\n",
    "print (f\"The answer for Day1 Part2 is {Day2()[1]}\") \n",
    "\n",
    "\n",
    "   \n",
    "\n"
   ]
  },
  {
   "cell_type": "code",
   "execution_count": 13,
   "metadata": {},
   "outputs": [
    {
     "name": "stdout",
     "output_type": "stream",
     "text": [
      "The solution to Day1 Part1 is 73211\n",
      "The solution to Day1 Part2 is 213958\n",
      "Function Day1 took 0.000801 seconds\n"
     ]
    }
   ],
   "source": [
    "# DAY 1\n",
    "\n",
    "from helper import timeit\n",
    "from heapq import heappush, heapify, heappop\n",
    "read_text_file = lambda path: [x for x in open(path).read().split('\\n')]\n",
    "calorie_list = tuple(read_text_file(\"C:\\git\\playground\\day1.txt\"))\n",
    "@timeit\n",
    "def Day1 ():\n",
    "    calorie_sum= 0  \n",
    "    heap = []\n",
    "    heapify(heap)    \n",
    "    for snack in calorie_list:\n",
    "        if snack != '':\n",
    "            calorie_sum += int(snack)            \n",
    "        else:\n",
    "            heappush(heap, calorie_sum*-1)\n",
    "            calorie_sum = 0\n",
    "    \n",
    "    max_list = [heappop(heap)*-1,heappop(heap)*-1,heappop(heap)*-1]\n",
    "    print(f\"The solution to Day1 Part1 is {max_list[0]}\")\n",
    "    print(f\"The solution to Day1 Part2 is {sum(max_list)}\")            \n",
    "Day1()\n",
    "\n",
    "\n"
   ]
  },
  {
   "cell_type": "markdown",
   "metadata": {},
   "source": []
  }
 ],
 "metadata": {
  "kernelspec": {
   "display_name": "Python 3.10.4 64-bit",
   "language": "python",
   "name": "python3"
  },
  "language_info": {
   "codemirror_mode": {
    "name": "ipython",
    "version": 3
   },
   "file_extension": ".py",
   "mimetype": "text/x-python",
   "name": "python",
   "nbconvert_exporter": "python",
   "pygments_lexer": "ipython3",
   "version": "3.10.4"
  },
  "orig_nbformat": 4,
  "vscode": {
   "interpreter": {
    "hash": "26de051ba29f2982a8de78e945f0abaf191376122a1563185a90213a26c5da77"
   }
  }
 },
 "nbformat": 4,
 "nbformat_minor": 2
}
