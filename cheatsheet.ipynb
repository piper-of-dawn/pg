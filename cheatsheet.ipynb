{
 "cells": [
  {
   "cell_type": "code",
   "execution_count": null,
   "metadata": {},
   "outputs": [],
   "source": [
    "#Find text between brackets using regex\n",
    "import re\n",
    "text = \"Try to [find me] and [me] as well.\"\n",
    "re.findall(r'(?<=\\[)(.*?)(?=\\])', text)"
   ]
  },
  {
   "cell_type": "code",
   "execution_count": null,
   "metadata": {},
   "outputs": [],
   "source": [
    "# 'eval()' in Python\n",
    "s = \"2 * 3 + 5 / 7\"\n",
    "result = eval(s)\n",
    "print(result) # Output: 4.285714285714286\n"
   ]
  },
  {
   "cell_type": "code",
   "execution_count": 2,
   "metadata": {},
   "outputs": [
    {
     "name": "stdout",
     "output_type": "stream",
     "text": [
      "x is not an integer\n"
     ]
    }
   ],
   "source": [
    "# Compare types in Python\n",
    "x = 'l10'\n",
    "if isinstance(x, int):\n",
    "    print(\"x is an integer\")\n",
    "else:\n",
    "    print(\"x is not an integer\")\n"
   ]
  },
  {
   "cell_type": "code",
   "execution_count": null,
   "metadata": {},
   "outputs": [],
   "source": [
    "# Check if all elements in a list are True\n",
    "lst = [True, True, True]\n",
    "result = all(lst)\n",
    "print(result) # Output: True\n",
    "\n",
    "lst = [True, True, False]\n",
    "result = all(lst)\n",
    "print(result) # Output: False\n",
    "# The any() function works similarly to the all() function, but it returns True if any element in the iterable is True, and False only if all elements in the iterable are False. For example:"
   ]
  },
  {
   "cell_type": "markdown",
   "metadata": {},
   "source": [
    "## Complex Numbers\n",
    "\n",
    "#### Calculate the Manhattan distance between the real and the imaginary parts\n",
    "To calculate the Manhattan distance between the real and imaginary parts of a complex number, you need to take the absolute value of the difference between the real and imaginary parts and then add them together. For example, let's say you have the complex number z = 3 + 4i. The real part of z is 3 and the imaginary part is 4, so the Manhattan distance between the real and imaginary parts would be |3 - 4| + |3 + 4| = 1 + 7 = 8.\n",
    "\n",
    "To generalize this for any complex number z = a + bi, where a is the real part and b is the imaginary part, the Manhattan distance between the real and imaginary parts is given by |a - b| + |a + b|.\n",
    "\n",
    "I hope this helps. Let me know if you have any other questions.\n",
    "\n"
   ]
  },
  {
   "cell_type": "code",
   "execution_count": 1,
   "metadata": {},
   "outputs": [
    {
     "name": "stdout",
     "output_type": "stream",
     "text": [
      "(3+4j)\n",
      "3.0\n",
      "4.0\n",
      "(6+8j)\n"
     ]
    }
   ],
   "source": [
    "# Create a complex number with a real part of 3 and an imaginary part of 4\n",
    "z = complex(3, 4)\n",
    "\n",
    "# Print the complex number\n",
    "print(z)  # Output: (3+4j)\n",
    "\n",
    "# Access the real and imaginary parts of the complex number\n",
    "print(z.real)  # Output: 3.0\n",
    "print(z.imag)  # Output: 4.0\n",
    "\n",
    "# Use the complex number in a calculation\n",
    "result = z * 2\n",
    "print(result)  # Output: (6+8j)\n"
   ]
  },
  {
   "cell_type": "code",
   "execution_count": 1,
   "metadata": {},
   "outputs": [
    {
     "name": "stdout",
     "output_type": "stream",
     "text": [
      "[[3, 1], [2, 2], [1, 3]]\n"
     ]
    }
   ],
   "source": [
    "# Sort list of lists\n",
    "\n",
    "list_of_lists = [[1, 3], [2, 2], [3, 1]]\n",
    "\n",
    "sorted_list = sorted(list_of_lists, key=lambda x: x[1])\n",
    "\n",
    "print(sorted_list)  # Output: [[3, 1\n"
   ]
  },
  {
   "cell_type": "code",
   "execution_count": null,
   "metadata": {},
   "outputs": [],
   "source": []
  }
 ],
 "metadata": {
  "kernelspec": {
   "display_name": "Python 3.11.0 64-bit",
   "language": "python",
   "name": "python3"
  },
  "language_info": {
   "codemirror_mode": {
    "name": "ipython",
    "version": 3
   },
   "file_extension": ".py",
   "mimetype": "text/x-python",
   "name": "python",
   "nbconvert_exporter": "python",
   "pygments_lexer": "ipython3",
   "version": "3.11.0"
  },
  "orig_nbformat": 4,
  "vscode": {
   "interpreter": {
    "hash": "41cec28fd681075328d5c3ce57c3e36d2e28950cd4b5df3e126fcfc4cca87be8"
   }
  }
 },
 "nbformat": 4,
 "nbformat_minor": 2
}
